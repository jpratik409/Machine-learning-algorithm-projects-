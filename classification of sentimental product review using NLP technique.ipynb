{
 "cells": [
  {
   "cell_type": "code",
   "execution_count": 1,
   "metadata": {},
   "outputs": [],
   "source": [
    "import pandas as pd\n",
    "from sklearn.model_selection import train_test_split\n",
    "from nltk.tokenize import RegexpTokenizer\n",
    "from nltk.corpus import stopwords\n",
    "from nltk.stem import WordNetLemmatizer\n",
    "from sklearn.feature_extraction.text import TfidfVectorizer\n",
    "from sklearn.linear_model import LogisticRegression\n",
    "from sklearn.metrics import confusion_matrix,precision_score,recall_score,roc_curve,roc_auc_score,classification_report\n",
    "import matplotlib.pyplot as plt\n",
    "\n",
    "\n",
    "\n"
   ]
  },
  {
   "cell_type": "code",
   "execution_count": 2,
   "metadata": {},
   "outputs": [],
   "source": [
    "sw_en=stopwords.words('english')\n",
    "\n",
    "tokenizer=RegexpTokenizer(r'\\w+')\n",
    "\n",
    "lemmatizer=WordNetLemmatizer()\n",
    "\n",
    "tfidf=TfidfVectorizer()"
   ]
  },
  {
   "cell_type": "code",
   "execution_count": 3,
   "metadata": {},
   "outputs": [
    {
     "data": {
      "text/html": [
       "<div>\n",
       "<style scoped>\n",
       "    .dataframe tbody tr th:only-of-type {\n",
       "        vertical-align: middle;\n",
       "    }\n",
       "\n",
       "    .dataframe tbody tr th {\n",
       "        vertical-align: top;\n",
       "    }\n",
       "\n",
       "    .dataframe thead th {\n",
       "        text-align: right;\n",
       "    }\n",
       "</style>\n",
       "<table border=\"1\" class=\"dataframe\">\n",
       "  <thead>\n",
       "    <tr style=\"text-align: right;\">\n",
       "      <th></th>\n",
       "      <th>Review</th>\n",
       "      <th>Label</th>\n",
       "    </tr>\n",
       "  </thead>\n",
       "  <tbody>\n",
       "    <tr>\n",
       "      <th>142</th>\n",
       "      <td>Not Patterns - but Detailed Sketches: Although I was excited to purchase this book, my excitement didn't last when I looked at the sketches / pictures in the book. I call them pictures because that is what they truly are, not actual patterns. Norma Gregory's talent shows up well in her designs but due to their complicated rendering they are very difficult to transfer.This book is not for beginners - but more seasoned artisans.If you are looking for patterns, like I was, you will be disappointed in this book.</td>\n",
       "      <td>0</td>\n",
       "    </tr>\n",
       "    <tr>\n",
       "      <th>66</th>\n",
       "      <td>Definitely enjoyed!: This was a gift for my 6 yr old daughter. She is a big Barbie fan as well as loves to use the computer. She is still enjoying this game. She completed it in a few hours which worried me at first, but she loves to do it over and over again. The music is enjoyable and the colors are vibrant. It seems to be very user friendly also....my daughter has not really needed my help to use it once she started it the first time.</td>\n",
       "      <td>1</td>\n",
       "    </tr>\n",
       "    <tr>\n",
       "      <th>131</th>\n",
       "      <td>Outstanding guidebook for building your own timberframe home: My wife and I built a hybrid timber frame home using this book as a guide. Although we have construction skills, this book was invaluable in guiding us through the process. We can't wait to build another. We highly recommend this book to anyone considering a timber frame house.</td>\n",
       "      <td>1</td>\n",
       "    </tr>\n",
       "  </tbody>\n",
       "</table>\n",
       "</div>"
      ],
      "text/plain": [
       "                                                                                                                                                                                                                                                                                                                                                                                                                                                                                                                                 Review  \\\n",
       "142   Not Patterns - but Detailed Sketches: Although I was excited to purchase this book, my excitement didn't last when I looked at the sketches / pictures in the book. I call them pictures because that is what they truly are, not actual patterns. Norma Gregory's talent shows up well in her designs but due to their complicated rendering they are very difficult to transfer.This book is not for beginners - but more seasoned artisans.If you are looking for patterns, like I was, you will be disappointed in this book.   \n",
       "66                                                                            Definitely enjoyed!: This was a gift for my 6 yr old daughter. She is a big Barbie fan as well as loves to use the computer. She is still enjoying this game. She completed it in a few hours which worried me at first, but she loves to do it over and over again. The music is enjoyable and the colors are vibrant. It seems to be very user friendly also....my daughter has not really needed my help to use it once she started it the first time.   \n",
       "131                                                                                                                                                                                Outstanding guidebook for building your own timberframe home: My wife and I built a hybrid timber frame home using this book as a guide. Although we have construction skills, this book was invaluable in guiding us through the process. We can't wait to build another. We highly recommend this book to anyone considering a timber frame house.   \n",
       "\n",
       "     Label  \n",
       "142      0  \n",
       "66       1  \n",
       "131      1  "
      ]
     },
     "execution_count": 3,
     "metadata": {},
     "output_type": "execute_result"
    }
   ],
   "source": [
    "review=pd.read_csv(\"Amazon_reviews.csv\")\n",
    "pd.set_option(\"display.max_colwidth\",1000)\n",
    "review.sample(3)"
   ]
  },
  {
   "cell_type": "markdown",
   "metadata": {},
   "source": [
    "# Seperate the dependent and independent column, here is Label=Dependent and Review=Independent  "
   ]
  },
  {
   "cell_type": "code",
   "execution_count": 4,
   "metadata": {},
   "outputs": [],
   "source": [
    "y = review[\"Label\"]\n",
    "review.drop(columns=\"Label\",inplace=True)\n"
   ]
  },
  {
   "cell_type": "markdown",
   "metadata": {},
   "source": [
    "# Splitting the train and test data"
   ]
  },
  {
   "cell_type": "code",
   "execution_count": 5,
   "metadata": {},
   "outputs": [],
   "source": [
    "X_train,X_test,y_train,y_test=train_test_split(review,y,test_size=0.3,random_state=20)"
   ]
  },
  {
   "cell_type": "code",
   "execution_count": 6,
   "metadata": {},
   "outputs": [
    {
     "name": "stdout",
     "output_type": "stream",
     "text": [
      "x_train (139, 1)\n",
      "y_train (139,)\n",
      "x_test (60, 1)\n",
      "y_test (60,)\n"
     ]
    }
   ],
   "source": [
    "print(\"x_train\",X_train.shape)\n",
    "print(\"y_train\",y_train.shape)\n",
    "print(\"x_test\",X_test.shape)\n",
    "print(\"y_test\",y_test.shape)"
   ]
  },
  {
   "cell_type": "markdown",
   "metadata": {},
   "source": [
    "# Preprocessing on Independent variable"
   ]
  },
  {
   "cell_type": "markdown",
   "metadata": {},
   "source": [
    "# steps--\n",
    "       1. convert all reviews in lower case\n",
    "       2.Tokenized\n",
    "       3.Remove Stopwords from tokens\n",
    "       4.Stemming and lemmetizing using porter and wordnet lamettizer"
   ]
  },
  {
   "cell_type": "code",
   "execution_count": 7,
   "metadata": {},
   "outputs": [],
   "source": [
    "def preprocessing(review):\n",
    "    \n",
    "    tokens=tokenizer.tokenize(review) # tokenizing\n",
    "    pure_tokens=[token.lower() for token in tokens if token.lower() not in sw_en] # removing stop words\n",
    "    lemma_tokens=[lemmatizer.lemmatize(pure_token,pos='v') for pure_token in pure_tokens] # lemmatizing\n",
    "    \n",
    "    \n",
    "    return ' '.join(lemma_tokens)\n",
    "    \n",
    "    "
   ]
  },
  {
   "cell_type": "code",
   "execution_count": 8,
   "metadata": {},
   "outputs": [
    {
     "name": "stderr",
     "output_type": "stream",
     "text": [
      "<ipython-input-8-281e8ad5ac77>:1: SettingWithCopyWarning: \n",
      "A value is trying to be set on a copy of a slice from a DataFrame.\n",
      "Try using .loc[row_indexer,col_indexer] = value instead\n",
      "\n",
      "See the caveats in the documentation: https://pandas.pydata.org/pandas-docs/stable/user_guide/indexing.html#returning-a-view-versus-a-copy\n",
      "  X_train[\"Review\"]=X_train[\"Review\"].apply(preprocessing)\n",
      "<ipython-input-8-281e8ad5ac77>:2: SettingWithCopyWarning: \n",
      "A value is trying to be set on a copy of a slice from a DataFrame.\n",
      "Try using .loc[row_indexer,col_indexer] = value instead\n",
      "\n",
      "See the caveats in the documentation: https://pandas.pydata.org/pandas-docs/stable/user_guide/indexing.html#returning-a-view-versus-a-copy\n",
      "  X_test[\"Review\"]=X_test[\"Review\"].apply(preprocessing)\n"
     ]
    }
   ],
   "source": [
    "X_train[\"Review\"]=X_train[\"Review\"].apply(preprocessing)\n",
    "X_test[\"Review\"]=X_test[\"Review\"].apply(preprocessing)"
   ]
  },
  {
   "cell_type": "code",
   "execution_count": 9,
   "metadata": {},
   "outputs": [
    {
     "data": {
      "text/plain": [
       "134    poor instructions figure kinda cool wrap anything place hot water search internet find others problem instructions poor first need dip boil water least temperature level would call hot second instructions describe happen image shrink around egg transfer needle say frustrate minute two wife intelligent great kitchen immediately think well hot water much change properties plastic let try boil water nothing lose explicit instructions use star war version product\n",
       "62                                                                                                              scrap across whole top purchase screen last week come noticeable scrap across top box come gigantic plenty package material screen package loosely bottom however since another smaller box think scrap begin ship still decide whether go trouble exchange since another reviewer say damage want risk get another damage really need screen right damage nice screen\n",
       "Name: Review, dtype: object"
      ]
     },
     "execution_count": 9,
     "metadata": {},
     "output_type": "execute_result"
    }
   ],
   "source": [
    "X_train[\"Review\"].head(2)"
   ]
  },
  {
   "cell_type": "code",
   "execution_count": 10,
   "metadata": {},
   "outputs": [],
   "source": [
    "X_train_tfidf=tfidf.fit_transform(X_train['Review'])\n",
    "X_test_tfidf=tfidf.transform(X_test['Review'])\n"
   ]
  },
  {
   "cell_type": "code",
   "execution_count": 11,
   "metadata": {},
   "outputs": [],
   "source": [
    "log = LogisticRegression()\n",
    "log.fit(X_train_tfidf,y_train)\n",
    "pred=log.predict(X_test_tfidf)\n"
   ]
  },
  {
   "cell_type": "code",
   "execution_count": 12,
   "metadata": {},
   "outputs": [
    {
     "data": {
      "text/plain": [
       "array([1, 1, 1, 1, 1, 1, 1, 1, 1, 1, 1, 1, 1, 1, 1, 0, 1, 1, 1, 1, 1, 1,\n",
       "       1, 1, 1, 0, 0, 1, 1, 1, 1, 1, 1, 1, 1, 1, 1, 0, 1, 1, 1, 1, 1, 1,\n",
       "       1, 1, 1, 1, 1, 1, 1, 1, 1, 1, 0, 1, 1, 1, 1, 1], dtype=int64)"
      ]
     },
     "execution_count": 12,
     "metadata": {},
     "output_type": "execute_result"
    }
   ],
   "source": [
    "pred"
   ]
  },
  {
   "cell_type": "code",
   "execution_count": 13,
   "metadata": {},
   "outputs": [
    {
     "data": {
      "text/plain": [
       "array([[ 5, 25],\n",
       "       [ 0, 30]], dtype=int64)"
      ]
     },
     "execution_count": 13,
     "metadata": {},
     "output_type": "execute_result"
    }
   ],
   "source": [
    "confusion_matrix(y_test,pred)"
   ]
  },
  {
   "cell_type": "code",
   "execution_count": 14,
   "metadata": {},
   "outputs": [
    {
     "data": {
      "text/plain": [
       "54.54545454545454"
      ]
     },
     "execution_count": 14,
     "metadata": {},
     "output_type": "execute_result"
    }
   ],
   "source": [
    "precision_score(y_test,pred)*100"
   ]
  },
  {
   "cell_type": "code",
   "execution_count": 15,
   "metadata": {},
   "outputs": [
    {
     "data": {
      "text/plain": [
       "100.0"
      ]
     },
     "execution_count": 15,
     "metadata": {},
     "output_type": "execute_result"
    }
   ],
   "source": [
    "recall_score(y_test,pred)*100"
   ]
  },
  {
   "cell_type": "code",
   "execution_count": 16,
   "metadata": {},
   "outputs": [
    {
     "data": {
      "text/plain": [
       "(array([0.        , 0.83333333, 1.        ]),\n",
       " array([0., 1., 1.]),\n",
       " array([2, 1, 0], dtype=int64))"
      ]
     },
     "execution_count": 16,
     "metadata": {},
     "output_type": "execute_result"
    }
   ],
   "source": [
    "roc_curve(y_test,pred)"
   ]
  },
  {
   "cell_type": "code",
   "execution_count": 17,
   "metadata": {},
   "outputs": [
    {
     "data": {
      "text/plain": [
       "58.33333333333333"
      ]
     },
     "execution_count": 17,
     "metadata": {},
     "output_type": "execute_result"
    }
   ],
   "source": [
    "roc_auc_score(y_test,pred)*100"
   ]
  },
  {
   "cell_type": "markdown",
   "metadata": {},
   "source": [
    "# Positive Probability"
   ]
  },
  {
   "cell_type": "code",
   "execution_count": 18,
   "metadata": {},
   "outputs": [
    {
     "data": {
      "text/plain": [
       "array([0.65155738, 0.53706432, 0.57299429, 0.6205563 , 0.60386081,\n",
       "       0.69110384, 0.52687736, 0.61439631, 0.57599536, 0.54992281,\n",
       "       0.59694877, 0.5613887 , 0.56385783, 0.66476966, 0.58962915,\n",
       "       0.46437929, 0.56180582, 0.62988748, 0.71065003, 0.58830982,\n",
       "       0.57265992, 0.67537391, 0.54089909, 0.52952086, 0.57495665,\n",
       "       0.48886564, 0.48142851, 0.61240606, 0.60210484, 0.5686073 ,\n",
       "       0.53684326, 0.64719645, 0.60308295, 0.61562133, 0.60094864,\n",
       "       0.62746849, 0.62337236, 0.47885696, 0.56536133, 0.58377537,\n",
       "       0.54390073, 0.63814382, 0.62166381, 0.55754341, 0.57011901,\n",
       "       0.54861969, 0.66597045, 0.5769878 , 0.63698121, 0.60226126,\n",
       "       0.69117515, 0.64092197, 0.58685496, 0.63409015, 0.4534605 ,\n",
       "       0.60614652, 0.59120997, 0.58194554, 0.60328501, 0.54635549])"
      ]
     },
     "execution_count": 18,
     "metadata": {},
     "output_type": "execute_result"
    }
   ],
   "source": [
    "pos_probability=log.predict_proba(X_test_tfidf)[::,1]\n",
    "pos_probability"
   ]
  },
  {
   "cell_type": "code",
   "execution_count": 19,
   "metadata": {},
   "outputs": [
    {
     "data": {
      "text/plain": [
       "(array([0.        , 0.03333333, 0.03333333, 0.06666667, 0.06666667,\n",
       "        0.13333333, 0.13333333, 0.16666667, 0.16666667, 0.2       ,\n",
       "        0.2       , 0.26666667, 0.26666667, 0.33333333, 0.33333333,\n",
       "        0.4       , 0.4       , 0.46666667, 0.46666667, 0.5       ,\n",
       "        0.5       , 1.        ]),\n",
       " array([0.        , 0.        , 0.16666667, 0.16666667, 0.3       ,\n",
       "        0.3       , 0.6       , 0.6       , 0.63333333, 0.63333333,\n",
       "        0.66666667, 0.66666667, 0.8       , 0.8       , 0.86666667,\n",
       "        0.86666667, 0.93333333, 0.93333333, 0.96666667, 0.96666667,\n",
       "        1.        , 1.        ]))"
      ]
     },
     "execution_count": 19,
     "metadata": {},
     "output_type": "execute_result"
    }
   ],
   "source": [
    "fpr,tpr,threeshold=roc_curve(y_test,pos_probability)\n",
    "fpr,tpr"
   ]
  },
  {
   "cell_type": "code",
   "execution_count": 20,
   "metadata": {},
   "outputs": [
    {
     "data": {
      "text/plain": [
       "Text(0.5, 0, 'TRUE POSITIVE RATE')"
      ]
     },
     "execution_count": 20,
     "metadata": {},
     "output_type": "execute_result"
    },
    {
     "data": {
      "image/png": "[encoded data removed]",
      "text/plain": [
       "<Figure size 432x288 with 1 Axes>"
      ]
     },
     "metadata": {
      "needs_background": "light"
     },
     "output_type": "display_data"
    }
   ],
   "source": [
    "plt.plot(fpr,tpr)\n",
    "plt.xlabel(\"FALSE POSITIVE RATE\")\n",
    "plt.xlabel(\"TRUE POSITIVE RATE\")\n",
    "\n"
   ]
  }
 ],
 "metadata": {
  "kernelspec": {
   "display_name": "Python 3",
   "language": "python",
   "name": "python3"
  },
  "language_info": {
   "codemirror_mode": {
    "name": "ipython",
    "version": 3
   },
   "file_extension": ".py",
   "mimetype": "text/x-python",
   "name": "python",
   "nbconvert_exporter": "python",
   "pygments_lexer": "ipython3",
   "version": "3.8.5"
  }
 },
 "nbformat": 4,
 "nbformat_minor": 4
}
